{
 "cells": [
  {
   "cell_type": "markdown",
   "id": "3626e86b",
   "metadata": {},
   "source": [
    "# Model Analysis\n",
    "This notebook visualizes training loss, accuracy, and confusion matrix."
   ]
  },
  {
   "cell_type": "code",
   "execution_count": null,
   "id": "e85f51ff",
   "metadata": {},
   "outputs": [],
   "source": [
    "\n",
    "# Imports\n",
    "import tensorflow as tf\n",
    "import matplotlib.pyplot as plt\n",
    "import pandas as pd\n",
    "import numpy as np\n"
   ]
  },
  {
   "cell_type": "markdown",
   "id": "9f9e8ae4",
   "metadata": {},
   "source": [
    "## Load Model History (Optional)\n",
    "If you manually saved the training history, you could load it here."
   ]
  },
  {
   "cell_type": "code",
   "execution_count": null,
   "id": "aefa0fde",
   "metadata": {},
   "outputs": [],
   "source": [
    "# Load training history\n",
    "import pickle\n",
    "\n",
    "with open('models/history.pkl', 'rb') as f:\n",
    "    history = pickle.load(f)\n",
    "\n",
    "# Now plot it\n",
    "plot_training_curves(history)\n"
   ]
  },
  {
   "cell_type": "markdown",
   "id": "7dfc2ed9",
   "metadata": {},
   "source": [
    "## Plot Training History"
   ]
  },
  {
   "cell_type": "code",
   "execution_count": null,
   "id": "0cf97282",
   "metadata": {},
   "outputs": [],
   "source": [
    "\n",
    "def plot_training_curves(history):\n",
    "    if not history:\n",
    "        print(\"No training history found.\")\n",
    "        return\n",
    "\n",
    "    plt.figure(figsize=(12, 5))\n",
    "    plt.subplot(1, 2, 1)\n",
    "    plt.plot(history['loss'], label='Training Loss')\n",
    "    plt.plot(history['val_loss'], label='Validation Loss')\n",
    "    plt.title('Loss During Training')\n",
    "    plt.xlabel('Epoch')\n",
    "    plt.ylabel('Loss')\n",
    "    plt.legend()\n",
    "\n",
    "    plt.subplot(1, 2, 2)\n",
    "    plt.plot(history['accuracy'], label='Training Accuracy')\n",
    "    plt.plot(history['val_accuracy'], label='Validation Accuracy')\n",
    "    plt.title('Accuracy During Training')\n",
    "    plt.xlabel('Epoch')\n",
    "    plt.ylabel('Accuracy')\n",
    "    plt.legend()\n",
    "\n",
    "    plt.tight_layout()\n",
    "    plt.show()\n",
    "\n",
    "# Example usage:\n",
    "# plot_training_curves(history.history)\n"
   ]
  },
  {
   "cell_type": "markdown",
   "id": "2795c603",
   "metadata": {},
   "source": [
    "## Evaluate Final Model"
   ]
  },
  {
   "cell_type": "code",
   "execution_count": null,
   "id": "5c5faac0",
   "metadata": {},
   "outputs": [],
   "source": [
    "\n",
    "# Load model\n",
    "model = tf.keras.models.load_model('models/letter_model.h5')\n",
    "\n",
    "# Load dataset\n",
    "master_df = pd.read_csv('data/processed/training_data_letters_MASTER.csv')\n",
    "X = master_df.drop(columns=['label', 'session_id']).values\n",
    "y = master_df['label'].values\n",
    "\n",
    "# Reload scaler\n",
    "import joblib\n",
    "scaler = joblib.load('models/feature_scaler.pkl')\n",
    "X = scaler.transform(X)\n",
    "\n",
    "# Evaluate\n",
    "loss, accuracy = model.evaluate(X, y, verbose=1)\n",
    "print(f\"\\nFinal Evaluation on Full Dataset:\\n - Loss: {loss:.4f}\\n - Accuracy: {accuracy:.4f}\")\n"
   ]
  },
  {
   "cell_type": "markdown",
   "id": "5dd57a1c",
   "metadata": {},
   "source": [
    "## Confusion Matrix"
   ]
  },
  {
   "cell_type": "code",
   "execution_count": null,
   "id": "8f67a41a",
   "metadata": {},
   "outputs": [],
   "source": [
    "\n",
    "from sklearn.metrics import confusion_matrix, ConfusionMatrixDisplay\n",
    "\n",
    "# Predict classes\n",
    "y_pred = model.predict(X)\n",
    "y_pred_classes = np.argmax(y_pred, axis=1)\n",
    "\n",
    "# Create confusion matrix\n",
    "cm = confusion_matrix(y, y_pred_classes)\n",
    "labels = [letter.upper() for letter in 'abcdefghiklmnopqrstuvwxy']\n",
    "\n",
    "plt.figure(figsize=(12, 10))\n",
    "ConfusionMatrixDisplay(confusion_matrix=cm, display_labels=labels).plot(cmap='Blues', values_format='d')\n",
    "plt.title('Confusion Matrix')\n",
    "plt.show()\n"
   ]
  },
  {
   "cell_type": "markdown",
   "id": "73037c2c",
   "metadata": {},
   "source": [
    "## Summary"
   ]
  },
  {
   "cell_type": "code",
   "execution_count": null,
   "id": "023e0e6f",
   "metadata": {},
   "outputs": [],
   "source": [
    "\n",
    "print(\"\\nModel analysis complete: Loss/Accuracy plots, Final evaluation, and Confusion Matrix displayed.\")\n"
   ]
  }
 ],
 "metadata": {
  "kernelspec": {
   "display_name": ".venv",
   "language": "python",
   "name": "python3"
  },
  "language_info": {
   "name": "python",
   "version": "3.10.11"
  }
 },
 "nbformat": 4,
 "nbformat_minor": 5
}
